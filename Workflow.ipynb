{
 "cells": [
  {
   "cell_type": "markdown",
   "id": "6a160e22-8a7d-451a-81d8-636d9ad01880",
   "metadata": {},
   "source": [
    "# EcoTech Connect Workshop on RL!\n",
    "\n",
    "## 1. Setting: What is RL?\n",
    "\n",
    "Machine learning for sequential decisions made on observations! (Think like a computer playing a board game: the computer observes e.g. your card deck, the cards that are on the table, etc., then makes an action which alters the state of the game, and then a new 'turn' starts.)\n",
    "\n",
    "RL has two components:\n",
    "- the 'environment' which is the 'system' with which the computer interacts. E.g. it is the thing that keeps track of what is the current 'state' of the game (which cards are on which deck, which cards are on the table, in which order, etc.)\n",
    "- The learning algorithm: how the computer gathers experience (interactions with the game), how the computer updates its strategy\n",
    "\n",
    "## 2. How do people do RL?\n",
    "\n",
    "Many options, but the one I've been using a lot is:\n",
    "- Gymnasium framework for environments\n",
    "- Stable baselines framework for learning algorithms\n",
    "\n",
    "## 3. Gymnasium environments"
   ]
  },
  {
   "cell_type": "code",
   "execution_count": 1,
   "id": "a16471cd-d026-4d7a-8c13-9b197d149389",
   "metadata": {},
   "outputs": [],
   "source": [
    "import fishing"
   ]
  },
  {
   "cell_type": "code",
   "execution_count": 2,
   "id": "b6d6cab6-5755-4599-b83a-593dfd042b08",
   "metadata": {},
   "outputs": [],
   "source": [
    "fishing_env = fishing.harvested_system()"
   ]
  },
  {
   "cell_type": "code",
   "execution_count": 3,
   "id": "5727b4df-cb12-4e83-a7ab-e26308203ae8",
   "metadata": {},
   "outputs": [
    {
     "data": {
      "text/plain": [
       "(array([-0.3613845], dtype=float32),\n",
       " array([0.], dtype=float32),\n",
       " False,\n",
       " False,\n",
       " {})"
      ]
     },
     "execution_count": 3,
     "metadata": {},
     "output_type": "execute_result"
    }
   ],
   "source": [
    "fishing_env.reset()\n",
    "fishing_env.step(action=[-1])"
   ]
  },
  {
   "cell_type": "code",
   "execution_count": null,
   "id": "6032eed6-47a2-4c27-a821-5183572347db",
   "metadata": {},
   "outputs": [],
   "source": []
  },
  {
   "cell_type": "code",
   "execution_count": 4,
   "id": "ef1a2990-def1-40ca-9c21-6ee7adb9e6a6",
   "metadata": {},
   "outputs": [],
   "source": [
    "import dynamics as dyn\n",
    "\n",
    "simulation = dyn.simulate_dynamics(\n",
    "    T = fishing_env.max_t,\n",
    "    params = fishing_env.parameters,\n",
    "    init_pop = 0.5\n",
    ")\n",
    "\n",
    "import pandas as pd\n",
    "\n",
    "sim_df = pd.DataFrame(simulation)"
   ]
  },
  {
   "cell_type": "code",
   "execution_count": 5,
   "id": "7844f60a-5872-4b53-b4e0-ab28837e8c44",
   "metadata": {},
   "outputs": [
    {
     "data": {
      "text/plain": [
       "<Axes: xlabel='t'>"
      ]
     },
     "execution_count": 5,
     "metadata": {},
     "output_type": "execute_result"
    },
    {
     "data": {
      "image/png": "[encoded data removed]",
      "text/plain": [
       "<Figure size 640x480 with 1 Axes>"
      ]
     },
     "metadata": {},
     "output_type": "display_data"
    }
   ],
   "source": [
    "sim_df.plot(x='t')"
   ]
  },
  {
   "cell_type": "code",
   "execution_count": null,
   "id": "ad8fe225-978b-43e2-bc50-e067f1aa8722",
   "metadata": {},
   "outputs": [],
   "source": []
  },
  {
   "cell_type": "code",
   "execution_count": 6,
   "id": "95c98260-b7b6-477b-84e6-099bed56505b",
   "metadata": {},
   "outputs": [],
   "source": [
    "from stable_baselines3 import PPO"
   ]
  },
  {
   "cell_type": "code",
   "execution_count": 7,
   "id": "19f89f04-0ff5-477b-a635-6b5b07149d96",
   "metadata": {},
   "outputs": [],
   "source": [
    "agent = PPO(\"MlpPolicy\", env=fishing_env, verbose=0, tensorboard_log=\"../../logs\")"
   ]
  },
  {
   "cell_type": "code",
   "execution_count": 8,
   "id": "e6955ec5-0831-4e84-b8a7-4e6fe218e9eb",
   "metadata": {
    "scrolled": true
   },
   "outputs": [
    {
     "data": {
      "application/vnd.jupyter.widget-view+json": {
       "model_id": "91d11bb2825643708d5b0ebdb1701b86",
       "version_major": 2,
       "version_minor": 0
      },
      "text/plain": [
       "Output()"
      ]
     },
     "metadata": {},
     "output_type": "display_data"
    },
    {
     "data": {
      "text/html": [
       "<pre style=\"white-space:pre;overflow-x:auto;line-height:normal;font-family:Menlo,'DejaVu Sans Mono',consolas,'Courier New',monospace\"></pre>\n"
      ],
      "text/plain": []
     },
     "metadata": {},
     "output_type": "display_data"
    },
    {
     "data": {
      "text/plain": [
       "<stable_baselines3.ppo.ppo.PPO at 0x77a4623dc5c0>"
      ]
     },
     "execution_count": 8,
     "metadata": {},
     "output_type": "execute_result"
    }
   ],
   "source": [
    "agent.learn(total_timesteps = 1_000_000, progress_bar=True)"
   ]
  },
  {
   "cell_type": "code",
   "execution_count": 9,
   "id": "8aa486c3-4277-447e-a81a-7e304a10a608",
   "metadata": {},
   "outputs": [],
   "source": [
    "# plot the policy\n",
    "import numpy as np\n",
    "import pandas as pd\n",
    "\n",
    "policy_data = {\n",
    "    'population': [],\n",
    "    'harvest_intensity': [],\n",
    "}\n",
    "\n",
    "fishing_env.reset()\n",
    "for pop in np.linspace(0, 0.8):\n",
    "    fishing_env.pop = np.array([pop], dtype=np.float32)\n",
    "    obs = fishing_env.observe()\n",
    "    action = agent.predict(obs)\n",
    "    harvest_intensity = fishing_env.compute_harvest(action)[0]\n",
    "    policy_data['population'].append(pop)\n",
    "    policy_data['harvest_intensity'].append(harvest_intensity)\n",
    "\n",
    "policy_df = pd.DataFrame(policy_data)"
   ]
  },
  {
   "cell_type": "code",
   "execution_count": null,
   "id": "94658627-c903-4180-b25d-dbcf426d00e0",
   "metadata": {},
   "outputs": [],
   "source": [
    "policy_df.plot(x='population')"
   ]
  },
  {
   "cell_type": "code",
   "execution_count": null,
   "id": "439d3293-500f-4ff3-8664-6b49f452bd37",
   "metadata": {},
   "outputs": [],
   "source": [
    "from stable_baselines3.common.evaluation import evaluate_policy"
   ]
  },
  {
   "cell_type": "code",
   "execution_count": null,
   "id": "e6df1736-cdcf-4534-9165-37d4b4cabe21",
   "metadata": {},
   "outputs": [],
   "source": [
    "n_eps = 50\n",
    "rewards, ep_lengths = evaluate_policy(model = agent, env = fishing_env, n_eval_episodes=n_eps, return_episode_rewards=True)\n",
    "\n",
    "pd.DataFrame({\n",
    "    'reward': rewards,\n",
    "}).hist()"
   ]
  },
  {
   "cell_type": "code",
   "execution_count": null,
   "id": "b529e70b-1d42-4870-b2a8-4f24dff12884",
   "metadata": {},
   "outputs": [],
   "source": []
  }
 ],
 "metadata": {
  "kernelspec": {
   "display_name": "Python 3 (ipykernel)",
   "language": "python",
   "name": "python3"
  },
  "language_info": {
   "codemirror_mode": {
    "name": "ipython",
    "version": 3
   },
   "file_extension": ".py",
   "mimetype": "text/x-python",
   "name": "python",
   "nbconvert_exporter": "python",
   "pygments_lexer": "ipython3",
   "version": "3.12.7"
  }
 },
 "nbformat": 4,
 "nbformat_minor": 5
}

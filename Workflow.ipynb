{
 "cells": [
  {
   "cell_type": "code",
   "execution_count": 1,
   "id": "a16471cd-d026-4d7a-8c13-9b197d149389",
   "metadata": {},
   "outputs": [],
   "source": [
    "import fishing"
   ]
  },
  {
   "cell_type": "code",
   "execution_count": 2,
   "id": "b6d6cab6-5755-4599-b83a-593dfd042b08",
   "metadata": {},
   "outputs": [],
   "source": [
    "fishing_env = fishing.harvested_system()"
   ]
  },
  {
   "cell_type": "code",
   "execution_count": 3,
   "id": "5727b4df-cb12-4e83-a7ab-e26308203ae8",
   "metadata": {},
   "outputs": [
    {
     "data": {
      "text/plain": [
       "(array([-1.], dtype=float32), array([0.], dtype=float32), False, False, {})"
      ]
     },
     "execution_count": 3,
     "metadata": {},
     "output_type": "execute_result"
    }
   ],
   "source": [
    "fishing_env.reset()\n",
    "fishing_env.step(action=[-1])"
   ]
  },
  {
   "cell_type": "code",
   "execution_count": null,
   "id": "6032eed6-47a2-4c27-a821-5183572347db",
   "metadata": {},
   "outputs": [],
   "source": []
  },
  {
   "cell_type": "code",
   "execution_count": 8,
   "id": "ef1a2990-def1-40ca-9c21-6ee7adb9e6a6",
   "metadata": {},
   "outputs": [],
   "source": [
    "import dynamics as dyn\n",
    "\n",
    "simulation = dyn.simulate_dynamics(\n",
    "    T = fishing_env.max_t,\n",
    "    params = fishing_env.parameters,\n",
    "    init_pop = 0.5\n",
    ")\n",
    "\n",
    "import pandas as pd\n",
    "\n",
    "sim_df = pd.DataFrame(simulation)"
   ]
  },
  {
   "cell_type": "code",
   "execution_count": 9,
   "id": "7844f60a-5872-4b53-b4e0-ab28837e8c44",
   "metadata": {},
   "outputs": [
    {
     "data": {
      "text/plain": [
       "<Axes: xlabel='t'>"
      ]
     },
     "execution_count": 9,
     "metadata": {},
     "output_type": "execute_result"
    },
    {
     "data": {
      "image/png": "[encoded data removed]",
      "text/plain": [
       "<Figure size 640x480 with 1 Axes>"
      ]
     },
     "metadata": {},
     "output_type": "display_data"
    }
   ],
   "source": [
    "sim_df.plot(x='t')"
   ]
  },
  {
   "cell_type": "code",
   "execution_count": null,
   "id": "ad8fe225-978b-43e2-bc50-e067f1aa8722",
   "metadata": {},
   "outputs": [],
   "source": []
  },
  {
   "cell_type": "code",
   "execution_count": 10,
   "id": "95c98260-b7b6-477b-84e6-099bed56505b",
   "metadata": {},
   "outputs": [],
   "source": [
    "from stable_baselines3 import PPO"
   ]
  },
  {
   "cell_type": "code",
   "execution_count": 27,
   "id": "19f89f04-0ff5-477b-a635-6b5b07149d96",
   "metadata": {},
   "outputs": [],
   "source": [
    "agent = PPO(\"MlpPolicy\", env=fishing_env, verbose=1, tensorboard_log=\"../../logs\")"
   ]
  },
  {
   "cell_type": "code",
   "execution_count": null,
   "id": "e6955ec5-0831-4e84-b8a7-4e6fe218e9eb",
   "metadata": {},
   "outputs": [],
   "source": [
    "agent.learn(total_timesteps = 250_000)"
   ]
  },
  {
   "cell_type": "code",
   "execution_count": null,
   "id": "8aa486c3-4277-447e-a81a-7e304a10a608",
   "metadata": {},
   "outputs": [],
   "source": [
    "# plot the policy\n",
    "import numpy as np\n",
    "import pandas as pd\n",
    "\n",
    "policy_data = {\n",
    "    'population': [],\n",
    "    'harvest_intensity': [],\n",
    "}\n",
    "\n",
    "fishing_env.reset()\n",
    "for pop in np.linspace(0, 0.8):\n",
    "    fishing_env.pop = np.array([pop], dtype=np.float32)\n",
    "    obs = fishing_env.observe()\n",
    "    action = agent.predict(obs)\n",
    "    harvest_intensity = fishing_env.compute_harvest(action)[0]\n",
    "    policy_data['population'].append(pop)\n",
    "    policy_data['harvest_intensity'].append(harvest_intensity)\n",
    "\n",
    "policy_df = pd.DataFrame(policy_data)"
   ]
  },
  {
   "cell_type": "code",
   "execution_count": null,
   "id": "94658627-c903-4180-b25d-dbcf426d00e0",
   "metadata": {},
   "outputs": [],
   "source": [
    "policy_df.plot(x='population')"
   ]
  },
  {
   "cell_type": "code",
   "execution_count": 13,
   "id": "439d3293-500f-4ff3-8664-6b49f452bd37",
   "metadata": {},
   "outputs": [],
   "source": [
    "from stable_baselines3.common.evaluation import evaluate_policy"
   ]
  },
  {
   "cell_type": "code",
   "execution_count": 15,
   "id": "e6df1736-cdcf-4534-9165-37d4b4cabe21",
   "metadata": {},
   "outputs": [],
   "source": [
    "rewards, ep_lengths = evaluate_policy(model = agent, env = fishing_env, n_eval_episodes=50, return_episode_rewards=True)"
   ]
  },
  {
   "cell_type": "code",
   "execution_count": null,
   "id": "b529e70b-1d42-4870-b2a8-4f24dff12884",
   "metadata": {},
   "outputs": [],
   "source": []
  }
 ],
 "metadata": {
  "kernelspec": {
   "display_name": "Python 3 (ipykernel)",
   "language": "python",
   "name": "python3"
  },
  "language_info": {
   "codemirror_mode": {
    "name": "ipython",
    "version": 3
   },
   "file_extension": ".py",
   "mimetype": "text/x-python",
   "name": "python",
   "nbconvert_exporter": "python",
   "pygments_lexer": "ipython3",
   "version": "3.12.7"
  }
 },
 "nbformat": 4,
 "nbformat_minor": 5
}
